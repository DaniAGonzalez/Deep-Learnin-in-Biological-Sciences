{
  "nbformat": 4,
  "nbformat_minor": 0,
  "metadata": {
    "colab": {
      "provenance": []
    },
    "kernelspec": {
      "name": "python3",
      "display_name": "Python 3"
    },
    "language_info": {
      "name": "python"
    }
  },
  "cells": [
    {
      "cell_type": "code",
      "source": [
        "# This is a regression problem, not calssification\n",
        "# Smile generator link\n",
        "# https://www.cheminfo.org/flavor/malaria/Utilities/SMILES_generator___checker/index.html\n",
        "# Install deepchem.\n",
        "%%capture\n",
        "!pip install deepchem"
      ],
      "metadata": {
        "id": "q3GbwCyKUgde"
      },
      "execution_count": 8,
      "outputs": []
    },
    {
      "cell_type": "code",
      "source": [
        "import deepchem as dc"
      ],
      "metadata": {
        "colab": {
          "base_uri": "https://localhost:8080/"
        },
        "id": "3kNMCL9EUhJN",
        "outputId": "f0df5d18-48fe-4006-dd23-96cd887c7fa2"
      },
      "execution_count": 9,
      "outputs": [
        {
          "output_type": "stream",
          "name": "stderr",
          "text": [
            "WARNING:deepchem.feat.molecule_featurizers.rdkit_descriptors:No normalization for SPS. Feature removed!\n",
            "WARNING:deepchem.feat.molecule_featurizers.rdkit_descriptors:No normalization for AvgIpc. Feature removed!\n",
            "WARNING:tensorflow:From /usr/local/lib/python3.10/dist-packages/tensorflow/python/util/deprecation.py:588: calling function (from tensorflow.python.eager.polymorphic_function.polymorphic_function) with experimental_relax_shapes is deprecated and will be removed in a future version.\n",
            "Instructions for updating:\n",
            "experimental_relax_shapes is deprecated, use reduce_retracing instead\n",
            "WARNING:deepchem.models.torch_models:Skipped loading modules with pytorch-geometric dependency, missing a dependency. No module named 'torch_geometric'\n",
            "WARNING:deepchem.models:Skipped loading modules with pytorch-geometric dependency, missing a dependency. cannot import name 'DMPNN' from 'deepchem.models.torch_models' (/usr/local/lib/python3.10/dist-packages/deepchem/models/torch_models/__init__.py)\n",
            "WARNING:deepchem.models:Skipped loading modules with pytorch-lightning dependency, missing a dependency. No module named 'lightning'\n",
            "WARNING:deepchem.models:Skipped loading some Jax models, missing a dependency. No module named 'haiku'\n"
          ]
        }
      ]
    },
    {
      "cell_type": "code",
      "source": [
        "tasks, datasets, transformers = dc.molnet.load_delaney(featurizer='GraphConv')\n",
        "train, valid, test = datasets"
      ],
      "metadata": {
        "id": "ZNYczPVdelHI"
      },
      "execution_count": 11,
      "outputs": []
    },
    {
      "cell_type": "code",
      "source": [
        "# Checking the shape of the data\n",
        "print(train.X.shape) #There are 902 molecules"
      ],
      "metadata": {
        "colab": {
          "base_uri": "https://localhost:8080/"
        },
        "id": "n_U7ZD3rfUUQ",
        "outputId": "e9d93192-ca25-4f09-c981-7552786220e8"
      },
      "execution_count": 12,
      "outputs": [
        {
          "output_type": "stream",
          "name": "stdout",
          "text": [
            "(902,)\n"
          ]
        }
      ]
    },
    {
      "cell_type": "code",
      "source": [
        "print(train.y.shape) #The y is the solubility"
      ],
      "metadata": {
        "colab": {
          "base_uri": "https://localhost:8080/"
        },
        "id": "zad0kSPYgO0-",
        "outputId": "6207f128-c357-4a13-baed-4dd2f522ff6f"
      },
      "execution_count": 14,
      "outputs": [
        {
          "output_type": "stream",
          "name": "stdout",
          "text": [
            "(902, 1)\n"
          ]
        }
      ]
    },
    {
      "cell_type": "code",
      "source": [
        "#We also have the weight variable\n",
        "print(train.w.shape)"
      ],
      "metadata": {
        "colab": {
          "base_uri": "https://localhost:8080/"
        },
        "id": "4j13Ofvdga8u",
        "outputId": "e5ad976e-11c1-4fb8-a2bf-53ac58ccb6d3"
      },
      "execution_count": 15,
      "outputs": [
        {
          "output_type": "stream",
          "name": "stdout",
          "text": [
            "(902, 1)\n"
          ]
        }
      ]
    },
    {
      "cell_type": "code",
      "source": [
        "# Checking the shape in test dataset\n",
        "print(test.X.shape)"
      ],
      "metadata": {
        "colab": {
          "base_uri": "https://localhost:8080/"
        },
        "id": "WfKxUC5ugkp0",
        "outputId": "96821efa-c813-4042-c246-58bfca9da675"
      },
      "execution_count": 16,
      "outputs": [
        {
          "output_type": "stream",
          "name": "stdout",
          "text": [
            "(113,)\n"
          ]
        }
      ]
    },
    {
      "cell_type": "markdown",
      "source": [
        "Building the model"
      ],
      "metadata": {
        "id": "mHfvDaMngs_U"
      }
    },
    {
      "cell_type": "code",
      "source": [
        "model = dc.models.GraphConvModel(n_tasks=1, mode='regression', graph_conv_layers=[128,128], dropout=0.20)\n",
        "#If we increase the dropout the test_score can increase too"
      ],
      "metadata": {
        "id": "uSCanM7_gvqB"
      },
      "execution_count": 20,
      "outputs": []
    },
    {
      "cell_type": "code",
      "source": [
        "model.fit(train, nb_epoch=100) # The result is the average loss\n",
        "#By increasing the number of layers the average loss can be less"
      ],
      "metadata": {
        "colab": {
          "base_uri": "https://localhost:8080/"
        },
        "id": "E8jtmaimhwqq",
        "outputId": "3f449d68-77cd-471d-c162-236d3980b3a7"
      },
      "execution_count": 21,
      "outputs": [
        {
          "output_type": "execute_result",
          "data": {
            "text/plain": [
              "0.08614117622375489"
            ]
          },
          "metadata": {},
          "execution_count": 21
        }
      ]
    },
    {
      "cell_type": "code",
      "source": [
        "#Evaluation of the model (creation of the metric)\n",
        "metrics = dc.metrics.Metric(dc.metrics.pearson_r2_score)\n",
        "train_scores = model.evaluate(train, [metrics], transformers)\n",
        "print(train_scores)\n",
        "\n",
        "test_score= model.evaluate(test, [metrics], transformers)\n",
        "print(test_score)"
      ],
      "metadata": {
        "colab": {
          "base_uri": "https://localhost:8080/"
        },
        "id": "LbjIeelnh7XS",
        "outputId": "4f4dcf8a-1208-4ad4-f088-a14b10469b9f"
      },
      "execution_count": 22,
      "outputs": [
        {
          "output_type": "stream",
          "name": "stdout",
          "text": [
            "{'pearson_r2_score': 0.9404402201562939}\n",
            "{'pearson_r2_score': 0.6850547678889533}\n"
          ]
        }
      ]
    },
    {
      "cell_type": "code",
      "source": [
        "# Imagine you are designing drugs and want to try their solubilities, how to check that with these model?\n",
        "smiles = ['Nc1cccc(O)c1', 'CC1CCCC(C)C1']\n",
        "# We obtained the SMILES representation of a molecule from the SMILE generator"
      ],
      "metadata": {
        "id": "D4s-F5x1nb8-"
      },
      "execution_count": 27,
      "outputs": []
    },
    {
      "cell_type": "code",
      "source": [
        "from rdkit import Chem"
      ],
      "metadata": {
        "id": "oSGMwheroZth"
      },
      "execution_count": 28,
      "outputs": []
    },
    {
      "cell_type": "code",
      "source": [
        "# First, convert the SMILE string into a mole to be put into the model\n",
        "mol = [Chem.MolFromSmiles(molecules) for molecules in smiles]\n",
        "mol"
      ],
      "metadata": {
        "colab": {
          "base_uri": "https://localhost:8080/"
        },
        "id": "GK-5I2-lokU-",
        "outputId": "6d6784f5-f93d-46bf-e9a1-9ba0f2bfaebf"
      },
      "execution_count": 29,
      "outputs": [
        {
          "output_type": "execute_result",
          "data": {
            "text/plain": [
              "[<rdkit.Chem.rdchem.Mol at 0x7f96546054d0>,\n",
              " <rdkit.Chem.rdchem.Mol at 0x7f96546057e0>]"
            ]
          },
          "metadata": {},
          "execution_count": 29
        }
      ]
    },
    {
      "cell_type": "code",
      "source": [
        "#Featurization of the new molecules\n",
        "featurizer = dc.feat.ConvMolFeaturizer()\n",
        "featurized_mol = featurizer.featurize(mol) #Creation of the array and featurization of our mol object"
      ],
      "metadata": {
        "id": "6Liyw35Fo_aO"
      },
      "execution_count": 30,
      "outputs": []
    },
    {
      "cell_type": "code",
      "source": [
        "#SOLUBILITY PREDICTION\n",
        "prediction = model.predict_on_batch(featurized_mol)\n",
        "print(prediction)"
      ],
      "metadata": {
        "colab": {
          "base_uri": "https://localhost:8080/"
        },
        "id": "rOlJbvQrpCED",
        "outputId": "876dbf92-d122-44e0-9685-ea2a95324e87"
      },
      "execution_count": 31,
      "outputs": [
        {
          "output_type": "stream",
          "name": "stdout",
          "text": [
            "[[ 1.7165319]\n",
            " [-0.6107986]]\n"
          ]
        }
      ]
    }
  ]
}